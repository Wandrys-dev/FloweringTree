{
 "cells": [
  {
   "cell_type": "code",
   "execution_count": 1,
   "metadata": {},
   "outputs": [],
   "source": [
    "import turtle\n",
    "import random\n",
    "from turtle import *\n",
    "from time import sleep"
   ]
  },
  {
   "cell_type": "code",
   "execution_count": 2,
   "metadata": {},
   "outputs": [],
   "source": [
    "static_turtle = turtle.Turtle()\n",
    "frame = turtle.Screen()"
   ]
  },
  {
   "cell_type": "code",
   "execution_count": 3,
   "metadata": {},
   "outputs": [],
   "source": [
    "def tree(branch_len, inner_turtle):\n",
    "    if branch_len > 3:\n",
    "        if 8 <= branch_len <= 12:\n",
    "            if random.randint(0, 2) == 0:\n",
    "                inner_turtle.color('snow')\n",
    "            else:\n",
    "                inner_turtle.color('lightcoral')\n",
    "            inner_turtle.pensize(branch_len / 3)\n",
    "        elif branch_len < 8:\n",
    "            if random.randint(0, 1) == 0:\n",
    "                inner_turtle.color('snow')\n",
    "            else:\n",
    "                inner_turtle.color('lightcoral')\n",
    "            inner_turtle.pensize(branch_len / 2)\n",
    "        else:\n",
    "            inner_turtle.color('sienna')\n",
    "            inner_turtle.pensize(branch_len / 10)\n",
    "\n",
    "        inner_turtle.forward(branch_len)\n",
    "        angle_elem = 1.5 * random.random()\n",
    "        inner_turtle.right(20 * angle_elem)\n",
    "        length_elem = 1.5 * random.random()\n",
    "        tree(branch_len - 10 * length_elem, inner_turtle)\n",
    "        inner_turtle.left(40 * angle_elem)\n",
    "        tree(branch_len - 10 * length_elem, inner_turtle)\n",
    "        inner_turtle.right(20 * angle_elem)\n",
    "        inner_turtle.up()\n",
    "        inner_turtle.backward(branch_len)\n",
    "        inner_turtle.down()"
   ]
  },
  {
   "cell_type": "code",
   "execution_count": 4,
   "metadata": {},
   "outputs": [],
   "source": [
    "def petal(maxim, inner_turtle):\n",
    "    for i in range(maxim):\n",
    "        right_branch = 200 - 400 * random.random()\n",
    "        left_branch = 10 - 20 * random.random()\n",
    "        inner_turtle.up()\n",
    "        inner_turtle.forward(left_branch)\n",
    "        inner_turtle.left(90)\n",
    "        inner_turtle.forward(right_branch)\n",
    "        inner_turtle.down()\n",
    "        inner_turtle.color(\"lightcoral\")\n",
    "        inner_turtle.circle(1)\n",
    "        inner_turtle.up()\n",
    "        inner_turtle.backward(right_branch)\n",
    "        inner_turtle.right(90)\n",
    "        inner_turtle.backward(left_branch)"
   ]
  },
  {
   "cell_type": "code",
   "execution_count": 5,
   "metadata": {},
   "outputs": [],
   "source": [
    "if __name__ == '__main__':\n",
    "    static_turtle = turtle.Turtle()\n",
    "    my_frame = turtle.Screen()\n",
    "    getscreen().tracer(5, 0)\n",
    "    turtle.screensize(bg='wheat')\n",
    "    static_turtle.left(90)\n",
    "    static_turtle.up()\n",
    "    static_turtle.backward(150)\n",
    "    static_turtle.down()\n",
    "    static_turtle.color('sienna')\n",
    "    tree(60, static_turtle)\n",
    "    petal(100, static_turtle)\n",
    "    my_frame.exitonclick()"
   ]
  },
  {
   "cell_type": "code",
   "execution_count": null,
   "metadata": {},
   "outputs": [],
   "source": []
  }
 ],
 "metadata": {
  "kernelspec": {
   "display_name": "Python 3",
   "language": "python",
   "name": "python3"
  },
  "language_info": {
   "codemirror_mode": {
    "name": "ipython",
    "version": 3
   },
   "file_extension": ".py",
   "mimetype": "text/x-python",
   "name": "python",
   "nbconvert_exporter": "python",
   "pygments_lexer": "ipython3",
   "version": "3.8.3"
  }
 },
 "nbformat": 4,
 "nbformat_minor": 4
}
